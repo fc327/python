{
 "cells": [
  {
   "cell_type": "markdown",
   "metadata": {},
   "source": [
    "# Write a Python function to multiply all the numbers in a list."
   ]
  },
  {
   "cell_type": "code",
   "execution_count": 1,
   "metadata": {},
   "outputs": [],
   "source": [
    "x = [5,18,20,3,54]\n",
    "y = [41,7,13,80,22]\n",
    "z = [95,2,0,17]"
   ]
  },
  {
   "cell_type": "code",
   "execution_count": 2,
   "metadata": {},
   "outputs": [],
   "source": [
    "import numpy as np\n",
    "#import math"
   ]
  },
  {
   "cell_type": "code",
   "execution_count": 3,
   "metadata": {},
   "outputs": [
    {
     "name": "stdout",
     "output_type": "stream",
     "text": [
      "291600\n",
      "6566560\n",
      "0\n"
     ]
    }
   ],
   "source": [
    "print(np.prod(x))\n",
    "print(np.prod(y))\n",
    "print(np.prod(z))"
   ]
  },
  {
   "cell_type": "markdown",
   "metadata": {},
   "source": [
    "# Write a Python function that accepts a string and calculate the number of upper case letters and lower case letters."
   ]
  },
  {
   "cell_type": "code",
   "execution_count": 4,
   "metadata": {},
   "outputs": [],
   "source": [
    "import string\n",
    "mystring1 = 'hOw Is thE WeaThER toDAy?'\n",
    "mystring2 = 'i HaD piZza For DINneR'"
   ]
  },
  {
   "cell_type": "code",
   "execution_count": 16,
   "metadata": {},
   "outputs": [
    {
     "name": "stdout",
     "output_type": "stream",
     "text": [
      "mystring1 has 9 uppercase characters\n",
      "mystring2 has 8 uppercase characters\n"
     ]
    }
   ],
   "source": [
    "def stringcharacters(string):\n",
    "    return sum(i.isupper() for i in string)\n",
    "print(\"mystring1 has\", stringcharacters(mystring1), \"uppercase characters\")\n",
    "print(\"mystring2 has\", stringcharacters(mystring2), \"uppercase characters\")"
   ]
  },
  {
   "cell_type": "code",
   "execution_count": 17,
   "metadata": {},
   "outputs": [
    {
     "name": "stdout",
     "output_type": "stream",
     "text": [
      "mystring1 has 11 lowercase characters\n",
      "mystring2 has 10 lowercase characters\n"
     ]
    }
   ],
   "source": [
    "def stringcharacters(string):\n",
    "    return sum(i.islower() for i in string)\n",
    "print(\"mystring1 has\", stringcharacters(mystring1), \"lowercase characters\")\n",
    "print(\"mystring2 has\", stringcharacters(mystring2), \"lowercase characters\")"
   ]
  },
  {
   "cell_type": "code",
   "execution_count": null,
   "metadata": {},
   "outputs": [],
   "source": []
  }
 ],
 "metadata": {
  "kernelspec": {
   "display_name": "Python 3",
   "language": "python",
   "name": "python3"
  },
  "language_info": {
   "codemirror_mode": {
    "name": "ipython",
    "version": 3
   },
   "file_extension": ".py",
   "mimetype": "text/x-python",
   "name": "python",
   "nbconvert_exporter": "python",
   "pygments_lexer": "ipython3",
   "version": "3.6.8"
  }
 },
 "nbformat": 4,
 "nbformat_minor": 2
}
